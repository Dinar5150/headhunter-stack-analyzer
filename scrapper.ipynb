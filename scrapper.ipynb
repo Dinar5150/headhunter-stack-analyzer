{
 "cells": [
  {
   "cell_type": "code",
   "execution_count": null,
   "id": "b95cd020",
   "metadata": {
    "vscode": {
     "languageId": "plaintext"
    }
   },
   "outputs": [],
   "source": [
    "from bs4 import BeautifulSoup\n",
    "\n",
    "BASE_URL = 'https://en.wikipedia.org'\n",
    "# Wikipedia will reject our request unless we add\n",
    "# a 'User-Agent' attribute to our http header.\n",
    "HEADERS = {'User-Agent': 'Mozilla/5.0'}\n",
    "\n",
    "def get_Nobel_soup():\n",
    "    \"\"\" Return a parsed tag tree of our Nobel prize page \"\"\"\n",
    "    # Make a request to the Nobel page, setting valid headers\n",
    "    print(BASE_URL + '/wiki/List_of_Nobel_laureates')\n",
    "    response = requests.get(BASE_URL + '/wiki/List_of_Nobel_laureates', headers=HEADERS)\n",
    "    print(response.status_code)\n",
    "    return BeautifulSoup(response.content, \"lxml\")"
   ]
  }
 ],
 "metadata": {
  "language_info": {
   "name": "python"
  }
 },
 "nbformat": 4,
 "nbformat_minor": 5
}
